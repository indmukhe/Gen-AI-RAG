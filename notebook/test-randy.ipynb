{
 "cells": [
  {
   "cell_type": "code",
   "execution_count": 6,
   "metadata": {},
   "outputs": [],
   "source": [
    "import json\n",
    "import requests\n",
    "import pandas as pd\n",
    "\n",
    "# url = \"http://localhost:8080/api/generate\"\n",
    "url = \"https://watsonx-sains.19l29sjpd6t9.us-south.codeengine.appdomain.cloud\""
   ]
  },
  {
   "cell_type": "code",
   "execution_count": 2,
   "metadata": {},
   "outputs": [],
   "source": [
    "r = requests.get(f\"{url}/openapi\")\n",
    "with open(\"../openapi.json\", \"w\") as f:\n",
    "    json.dump(r.json(), f)"
   ]
  },
  {
   "cell_type": "code",
   "execution_count": 7,
   "metadata": {},
   "outputs": [
    {
     "name": "stdout",
     "output_type": "stream",
     "text": [
      "I do not know.\n",
      "\n",
      "Please provide more information regarding the company's ownership structure and the individual's role in the company to determine if they meet the requirements for Bumiputera status. Additionally, it would be helpful to know the specific requirements for Bumiputera status in the relevant jurisdiction.\n"
     ]
    }
   ],
   "source": [
    "q = \"If I only have 30% share in my company, can I apply for bumiputera status?\"\n",
    "r = requests.post(f\"{url}/api/generate\", json={\"history\": [{\"u\": q}]})\n",
    "a = r.json()[\"generated_text\"]\n",
    "print(a)"
   ]
  },
  {
   "cell_type": "code",
   "execution_count": 3,
   "metadata": {},
   "outputs": [
    {
     "data": {
      "text/html": [
       "<div>\n",
       "<style scoped>\n",
       "    .dataframe tbody tr th:only-of-type {\n",
       "        vertical-align: middle;\n",
       "    }\n",
       "\n",
       "    .dataframe tbody tr th {\n",
       "        vertical-align: top;\n",
       "    }\n",
       "\n",
       "    .dataframe thead th {\n",
       "        text-align: right;\n",
       "    }\n",
       "</style>\n",
       "<table border=\"1\" class=\"dataframe\">\n",
       "  <thead>\n",
       "    <tr style=\"text-align: right;\">\n",
       "      <th></th>\n",
       "      <th>Question</th>\n",
       "      <th>Answer</th>\n",
       "    </tr>\n",
       "  </thead>\n",
       "  <tbody>\n",
       "    <tr>\n",
       "      <th>0</th>\n",
       "      <td>I want to save money but ino work then how, wh...</td>\n",
       "      <td>Hi, EPF offer i-Saraan. It offers an opportuni...</td>\n",
       "    </tr>\n",
       "    <tr>\n",
       "      <th>1</th>\n",
       "      <td>What savings scheme do you have in EPF for me?...</td>\n",
       "      <td>Hi, for someone with your employment status, y...</td>\n",
       "    </tr>\n",
       "    <tr>\n",
       "      <th>2</th>\n",
       "      <td>I dont have account can i register online</td>\n",
       "      <td>EPF has just launched our new mobile app KWSP ...</td>\n",
       "    </tr>\n",
       "    <tr>\n",
       "      <th>3</th>\n",
       "      <td>Saya terdesak, macam mana boleh saya simpan duit</td>\n",
       "      <td>Hi, kami di EPF ingin membantu anda untuk menc...</td>\n",
       "    </tr>\n",
       "    <tr>\n",
       "      <th>4</th>\n",
       "      <td>Saya dah ada akaun EPF tapi takde apps, boleh ...</td>\n",
       "      <td>Sudah tentu! Sila muat turun aplikasi KWSP i-A...</td>\n",
       "    </tr>\n",
       "  </tbody>\n",
       "</table>\n",
       "</div>"
      ],
      "text/plain": [
       "                                            Question  \\\n",
       "0  I want to save money but ino work then how, wh...   \n",
       "1  What savings scheme do you have in EPF for me?...   \n",
       "2          I dont have account can i register online   \n",
       "3   Saya terdesak, macam mana boleh saya simpan duit   \n",
       "4  Saya dah ada akaun EPF tapi takde apps, boleh ...   \n",
       "\n",
       "                                              Answer  \n",
       "0  Hi, EPF offer i-Saraan. It offers an opportuni...  \n",
       "1  Hi, for someone with your employment status, y...  \n",
       "2  EPF has just launched our new mobile app KWSP ...  \n",
       "3  Hi, kami di EPF ingin membantu anda untuk menc...  \n",
       "4  Sudah tentu! Sila muat turun aplikasi KWSP i-A...  "
      ]
     },
     "execution_count": 3,
     "metadata": {},
     "output_type": "execute_result"
    }
   ],
   "source": [
    "df = pd.read_excel(\"../data/Testing_Questions.xlsx\")\n",
    "df.head()"
   ]
  },
  {
   "cell_type": "code",
   "execution_count": 4,
   "metadata": {},
   "outputs": [
    {
     "name": "stdout",
     "output_type": "stream",
     "text": [
      "Q: I want to save money but ino work then how, what can epf offer to me\n",
      "A: Hi, EPF offer i-Saraan. It offers an opportunity for self-employed Members without fixed incomes and employees of the gig economy to obtain exclusive government incentives for retirement purposes, subject to the established requirements.\n",
      "G: The EPF offers the i-Saraan voluntary contribution initiative, which allows self-employed individuals to save for retirement and receive government incentives, subject to certain requirements and terms and conditions.\n",
      "\n",
      "Source:\n",
      "- KWSP - Voluntary Contribution - i-Saraan (BI)\n",
      "- FAQ KWSP i-Akaun (EN)\n",
      "\n",
      "Q: What savings scheme do you have in EPF for me? I have my own business\n",
      "A: Hi, for someone with your employment status, you can explore our i-Saraan where you build your savings and get incentives\n",
      "G: The EPF offers the i-Saraan savings scheme for self-employed individuals like yourself, which provides an opportunity to save for retirement and receive government incentives.\n",
      "\n",
      "Would you like to know more about the i-Saraan scheme and its benefits?\n",
      "\n",
      "Source:\n",
      "- KWSP - Voluntary Contribution - i-Saraan (BI)\n",
      "- FAQ KWSP i-Akaun (EN)\n",
      "\n",
      "Q: I dont have account can i register online\n",
      "A: EPF has just launched our new mobile app KWSP i-Akaun where you can register and activate your account online via our eKYC\n",
      "G: Yes, you can register online through the KWSP i-Akaun app, which is available for download on the App Store, Google Play Store, or Huawei App Gallery.\n",
      "\n",
      "Source:\n",
      "- FAQ eKYC (EN)\n",
      "- FAQ KWSP i-Akaun (EN)\n",
      "\n",
      "Q: Saya terdesak, macam mana boleh saya simpan duit\n",
      "A: Hi, kami di EPF ingin membantu anda untuk mencapai hari persaraan yang selesa. Sila jawab soalan berikut: 1. Apakah jumlan gaji anda (follow EPF calculator)\n",
      "G: The EPF retirement calculator can help you estimate how much you need to save for retirement based on your desired retirement age and lifestyle.\n",
      "\n",
      "Source:\n",
      "- KWSP - Voluntary Contribution - i-Saraan (BI)\n",
      "- FAQ KWSP i-Akaun (EN)\n",
      "\n",
      "Q: Saya dah ada akaun EPF tapi takde apps, boleh ke saya register online je\n",
      "A: Sudah tentu! Sila muat turun aplikasi KWSP i-Akaun menggunakan fungsi eKYC kami yang baharu\n",
      "G: Yes, you can register for an EPF account online through the KWSP i-Akaun app, which is available for download on the App Store, Google Play Store, or Huawei App Gallery.\n",
      "\n",
      "Source:\n",
      "- FAQ KWSP i-Akaun (EN)\n",
      "- FAQ eKYC (EN)\n",
      "\n",
      "Q: Im desperate, how do i save money\n",
      "A: Hi, we at EPF want to help you achieve a comfortable retirement. Please answer the following question: 1. What is your salary amount (follow EPF calculator)?\n",
      "G: The EPF retirement calculator can help you estimate your retirement savings needs and plan your contributions accordingly.\n",
      "\n",
      "Source:\n",
      "- FAQ KWSP i-Akaun (EN)\n",
      "- KWSP - Voluntary Contribution - i-Saraan (BI)\n",
      "\n",
      "Q: I have EPF account but not the apps, can i just register via online\n",
      "A: Of course! Please download the EPF i-Account application using our new eKYC feature. \n",
      "G: Yes, you can register for EPF membership online through the KWSP i-Akaun app, which is available for download on Apple App Store, Google Play Store, or Huawei App Gallery.\n",
      "\n",
      "Source:\n",
      "- FAQ eKYC (EN)\n",
      "- FAQ KWSP i-Akaun (EN)\n",
      "\n",
      "Q: What are the advantages of I saran?\n",
      "A: Other than receiving annual EPF dividend, I-saraan offers an opportunity for self-employed members without fixed incomes and employees of the gig economy to obtain exclusive government incentives for retirement purposes, subject to the established requirements. \n",
      "G: The i-Saraan initiative by EPF offers an opportunity for self-employed individuals to save for retirement and enjoy annual dividends, special incentives, and tax exemptions, with the option to register and make payments via mobile app, internet banking, or bank agents.\n",
      "\n",
      "Source:\n",
      "- KWSP - Voluntary Contribution - i-Saraan (BI)\n",
      "- FAQ KWSP i-Akaun (EN)\n",
      "\n",
      "Q: I have paid for my VC, can I ask for a refund\n",
      "A: No, you cannot ask for a refund for you VC. Each and every amount of i-saraan Contribution paid into EPF is valid and final. As a result, members are obligated to check that the payment details are accurate before completing the transactions. \n",
      "G: Sorry, refunds are not allowed for i-Saraan Contribution payments; any excess contributions will be refunded to members. Would you like more information on how to register for i-Saraan or how the initiative works?\n",
      "\n",
      "Source:\n",
      "- KWSP - Voluntary Contribution - i-Saraan (BI)\n",
      "\n",
      "Q: I have contributed VC for 7 months, but I registered for I saraan on the 8th month. Am I eligible for this incentive?\n",
      "A: To be eligible for the incentive, you must have registered for i-saraan before contributing. \n",
      "G: The i-Saraan incentive is only given to registered members who have contributed to the EPF for at least 6 months, so you would not be eligible for the incentive.\n",
      "\n",
      "Would you like to know more about the EPF retirement calculator?\n",
      "\n",
      "Source:\n",
      "- KWSP - Voluntary Contribution - i-Saraan (BI)\n",
      "\n",
      "Q: I am an employee, can I still register for I saraan?\n",
      "A: Employees can register for i-Saraan but are not eligible to receive government incentives. \n",
      "G: Unfortunately, i-Saraan is only open to self-employed individuals and those in the gig economy, so employees are not eligible to register.\n",
      "\n",
      "Source:\n",
      "- KWSP - Voluntary Contribution - i-Saraan (BI)\n",
      "- FAQ KWSP i-Akaun (EN)\n",
      "\n",
      "Q: What happens if we still contribute for self contribution?\n",
      "A: Contributions will be credited to the member's account, but the member will not receive the incentive.\n",
      "G: The EPF retirement calculator helps you estimate how much you need to save for retirement based on your desired retirement age and lifestyle.\n",
      "\n",
      "Source:\n",
      "- KWSP - Voluntary Contribution - i-Saraan (BI)\n",
      "\n",
      "Q: I am 60 years old and still working. can I withdraw my money from EPF?\n",
      "A: Yes, you can withdraw your money from EPF at 60 years old You can apply for withdrawal through KWSP i-akaun. \n",
      "G: Yes, you can withdraw your EPF savings when you reach the age of 60, but the amount you can withdraw is subject to the EPF's withdrawal rules and regulations.\n",
      "\n",
      "Source:\n",
      "- FAQ KWSP i-Akaun (EN)\n",
      "- KWSP - Voluntary Contribution - i-Saraan (BI)\n",
      "\n"
     ]
    }
   ],
   "source": [
    "messages = []\n",
    "for idx, row in df.iterrows():\n",
    "    messages.append({\"u\": row['Question']})\n",
    "    r = requests.post(f\"{url}/api/generate\", json={\"history\": messages})\n",
    "    a = r.json()[\"generated_text\"]\n",
    "    print(f\"Q: {row['Question']}\")\n",
    "    print(f\"A: {row['Answer']}\")\n",
    "    print(f\"G: {a}\")\n",
    "    print()\n"
   ]
  },
  {
   "cell_type": "code",
   "execution_count": null,
   "metadata": {},
   "outputs": [],
   "source": []
  },
  {
   "cell_type": "code",
   "execution_count": null,
   "metadata": {},
   "outputs": [],
   "source": []
  },
  {
   "cell_type": "code",
   "execution_count": 4,
   "metadata": {},
   "outputs": [
    {
     "name": "stdout",
     "output_type": "stream",
     "text": [
      "Q: What are the advantages of I saran?\n",
      "A: The advantages of i-Saraan include annual dividends, special incentives, tax exemption, and death benefits, providing an opportunity for self-employed individuals to save for retirement and receive government incentives.\n",
      "\n",
      "Source:\n",
      "- KWSP - Voluntary Contribution - i-Saraan (BI)\n",
      "- FAQ KWSP i-Akaun (EN)\n",
      "\n",
      "Q: tell me more\n",
      "A: The advantages of i-Saraan include:\n",
      "\n",
      "1. Annual Dividend: Enjoy annual dividends on top of your retirement savings.\n",
      "2. Special Incentive: Receive a special incentive of 15% of the total contribution up to a maximum of RM300 in the current year, subject to government terms and conditions.\n",
      "3. Tax Exemption: Enjoy tax exemption on your contributions, subject to IRB terms and conditions.\n",
      "4. Death Benefit: Your beneficiaries will receive a death benefit, subject to EPF terms and conditions, in the event of your passing.\n",
      "5. Voluntary Contribution: i-Saraan offers an opportunity for self-employed individuals to make voluntary contributions towards their retirement savings, providing an additional source of income in their golden years.\n",
      "6. Flexibility: Contributions can be made via various channels, including electronic payment via i-Akaun (Member) application, internet banking, registered bank agent, and bank agent counters.\n",
      "7. Government Support: i-Saraan is a government-initiated program, offering exclusive incentives for self-employed individuals to save for their retirement.\n",
      "8. Retirement Planning: By contributing to i-Saraan, you can better plan for your retirement and ensure a more financially secure future.\n",
      "9. Diversification: i-Saraan provides an additional avenue for retirement savings, allowing you to diversify your investments and minimize reliance on a single source of income.\n",
      "10. Peace of Mind: By saving for retirement through i-Saraan, you can enjoy peace of mind, knowing that you have taken steps towards securing your financial future.\n",
      "\n",
      "If you are interested in calculating your retirement savings, the EPF retirement calculator can help you estimate your retirement benefits based on your contributions. Simply visit the EPF website and use the retirement calculator to get an idea of your potential retirement income.\n",
      "\n",
      "Source:\n",
      "- KWSP - Voluntary Contribution - i-Saraan (BI)\n",
      "\n"
     ]
    }
   ],
   "source": [
    "questions = [\n",
    "    \"What are the advantages of I saran?\",\n",
    "    \"tell me more\",\n",
    "]\n",
    "messages = []\n",
    "for q in questions:\n",
    "    messages.append({\"u\": q})\n",
    "    r = requests.post(f\"{url}/api/generate\", json={\"history\": messages})\n",
    "    a = r.json()[\"generated_text\"]\n",
    "    messages.append({\"a\": a})\n",
    "    print(f\"Q: {q}\")\n",
    "    print(f\"A: {a}\")\n",
    "    print()"
   ]
  },
  {
   "cell_type": "code",
   "execution_count": null,
   "metadata": {},
   "outputs": [],
   "source": []
  },
  {
   "cell_type": "code",
   "execution_count": null,
   "metadata": {},
   "outputs": [],
   "source": []
  },
  {
   "cell_type": "code",
   "execution_count": null,
   "metadata": {},
   "outputs": [],
   "source": []
  },
  {
   "cell_type": "code",
   "execution_count": 3,
   "metadata": {},
   "outputs": [
    {
     "name": "stdout",
     "output_type": "stream",
     "text": [
      "Q: What is i-Saraan?\n",
      "A: i-Saraan is a voluntary contribution initiative offered by the Employees Provident Fund (EPF) for self-employed individuals and employees of the gig economy to save for their retirement. It provides an opportunity for members to obtain exclusive government incentives for retirement purposes, subject to established requirements. The initiative offers benefits such as annual dividends, special incentives, tax exemption, and death benefits.\n",
      "\n",
      "Q: I'm 52 years old and working at IBM. Am i eligible?\n",
      "A: Yes, you are eligible to apply for i-Saraan. According to the information provided, i-Saraan is open to self-employed individuals who are below 60 years old, and you are currently 52 years old. Additionally, you mentioned that you are working at IBM, which means you have a fixed income and are not an employee of the gig economy. Therefore, you meet the requirements to apply for i-Saraan. However, it's important to note that you will need to register for i-Saraan and submit Form KWSP 16G (M) to opt-in for the initiative.\n",
      "\n",
      "Q: My wife is a housewife and is 45 years old. is she eligible?\n",
      "A: Yes, your wife is eligible to apply for i-Saraan. She meets the requirements of being a Malaysian citizen, below 60 years old, and a self-employed individual. However, she needs to register for i-Saraan and submit Form KWSP 16G (M) to opt-in for the initiative.\n",
      "\n",
      "Q: How to register successfully?\n",
      "A: To register successfully, please ensure the following:\n",
      "\n",
      "1. Use the original identification documents (MyKad or MyPR). Identification documents in the form of copies/digital/photos are not accepted.\n",
      "2. Use a phone that has a front camera function.\n",
      "3. Ensure that you are in a well-lit area with stable internet connection.\n",
      "\n",
      "Additionally, follow the steps outlined in the KWSP i-Akaun app to complete the electronic Know-Your-Customer (e-KYC) process and key in the required information.\n",
      "\n",
      "Q: Who is the president of USA?\n",
      "A: I do not know.\n",
      "\n",
      "Q: Can I use a digital copy of my MyKad?\n",
      "A: No, you cannot use a digital copy of your MyKad. According to the KWSP i-Akaun FAQ, the app only accepts original identification documents, and digital or photo copies are not accepted.\n",
      "\n"
     ]
    }
   ],
   "source": [
    "questions = [\n",
    "    \"What is i-Saraan?\",\n",
    "    \"I'm 52 years old and working at IBM. Am i eligible?\",\n",
    "    \"My wife is a housewife and is 45 years old. is she eligible?\",\n",
    "    \"How to register successfully?\",\n",
    "    \"Who is the president of USA?\",\n",
    "    \"Can I use a digital copy of my MyKad?\",\n",
    "]\n",
    "messages = []\n",
    "for q in questions:\n",
    "    messages.append({\"u\": q})\n",
    "    r = requests.post(f\"{url}/api/generate\", json={\"history\": messages})\n",
    "    a = r.json()[\"generated_text\"]\n",
    "    messages.append({\"a\": a})\n",
    "    print(f\"Q: {q}\")\n",
    "    print(f\"A: {a}\")\n",
    "    print()"
   ]
  },
  {
   "cell_type": "code",
   "execution_count": null,
   "metadata": {},
   "outputs": [],
   "source": []
  },
  {
   "cell_type": "code",
   "execution_count": null,
   "metadata": {},
   "outputs": [],
   "source": []
  }
 ],
 "metadata": {
  "kernelspec": {
   "display_name": "Python 3 (ipykernel)",
   "language": "python",
   "name": "python3"
  },
  "language_info": {
   "codemirror_mode": {
    "name": "ipython",
    "version": 3
   },
   "file_extension": ".py",
   "mimetype": "text/x-python",
   "name": "python",
   "nbconvert_exporter": "python",
   "pygments_lexer": "ipython3",
   "version": "3.11.3"
  }
 },
 "nbformat": 4,
 "nbformat_minor": 2
}
